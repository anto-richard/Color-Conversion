{
 "cells": [
  {
   "cell_type": "code",
   "execution_count": null,
   "id": "91754806-5918-4ed5-8820-60d95efb57af",
   "metadata": {},
   "outputs": [],
   "source": [
    "# i) Convert BGR and RGB to HSV and GRAY\n",
    "\n",
    "import cv2\n",
    "color_image = cv2.imread('plains.jpg')\n",
    "cv2.imshow('Original image', color_image)\n",
    "hsv_image = cv2.cvtColor(color_image, cv2.COLOR_BGR2HSV)\n",
    "cv2.imshow('BGR2HSV' ,hsv_image )\n",
    "gray_image1 = cv2.cvtColor (color_image, cv2.COLOR_RGB2GRAY)\n",
    "cv2.imshow('RGB2GRAY', gray_image1)\n",
    "cv2.waitKey(0)\n",
    "cv2. destroyAllWindows()"
   ]
  },
  {
   "cell_type": "code",
   "execution_count": 1,
   "id": "b537346f-14c0-4714-be7b-6bbf173ee50a",
   "metadata": {},
   "outputs": [],
   "source": [
    "# ii)Convert HSV to RGB and BGR:\n",
    "\n",
    "import cv2\n",
    "color_image = cv2.imread('plains.jpg')\n",
    "cv2.imshow('Original image', color_image)\n",
    "hsv_image = cv2.cvtColor(color_image, cv2.COLOR_HSV2RGB)\n",
    "cv2.imshow('HSV2RGB' ,hsv_image )\n",
    "gray_image1 = cv2.cvtColor (color_image, cv2.COLOR_HSV2BGR)\n",
    "cv2.imshow('HSV2BGR', gray_image1)\n",
    "cv2.waitKey(0)\n",
    "cv2. destroyAllWindows()"
   ]
  },
  {
   "cell_type": "code",
   "execution_count": 1,
   "id": "694c44f8-a949-4cab-bfee-7f9226303489",
   "metadata": {},
   "outputs": [],
   "source": [
    "# iii)Convert RGB and BGR to YCrCb:\n",
    "\n",
    "import cv2\n",
    "color_image = cv2.imread('plains.jpg')\n",
    "cv2.imshow('Original image', color_image)\n",
    "gray_image1 = cv2.cvtColor (color_image, cv2.COLOR_RGB2YCrCb)\n",
    "cv2.imshow('RGB2YCrCb', gray_image1)\n",
    "gray_image1 = cv2.cvtColor (color_image, cv2.COLOR_BGR2YCrCb)\n",
    "cv2.imshow('BGR2YCrCb', gray_image1)\n",
    "cv2.waitKey(0)\n",
    "cv2. destroyAllWindows()"
   ]
  },
  {
   "cell_type": "code",
   "execution_count": 1,
   "id": "cd6b46c4-ccc4-4303-9dee-4c01ef8ae0c4",
   "metadata": {},
   "outputs": [
    {
     "ename": "AttributeError",
     "evalue": "module 'cv2' has no attribute 'destoryAllWindows'",
     "output_type": "error",
     "traceback": [
      "\u001b[1;31m---------------------------------------------------------------------------\u001b[0m",
      "\u001b[1;31mAttributeError\u001b[0m                            Traceback (most recent call last)",
      "Cell \u001b[1;32mIn[1], line 14\u001b[0m\n\u001b[0;32m     12\u001b[0m cv2\u001b[38;5;241m.\u001b[39mimshow(\u001b[38;5;124m'\u001b[39m\u001b[38;5;124mMerged BGR Image\u001b[39m\u001b[38;5;124m'\u001b[39m,Merged_BGR)\n\u001b[0;32m     13\u001b[0m cv2\u001b[38;5;241m.\u001b[39mwaitKey(\u001b[38;5;241m0\u001b[39m)\n\u001b[1;32m---> 14\u001b[0m \u001b[43mcv2\u001b[49m\u001b[38;5;241;43m.\u001b[39;49m\u001b[43mdestoryAllWindows\u001b[49m()\n",
      "\u001b[1;31mAttributeError\u001b[0m: module 'cv2' has no attribute 'destoryAllWindows'"
     ]
    }
   ],
   "source": [
    "# iv)Split and Merge RGB Image:\n",
    "\n",
    "import cv2\n",
    "image = cv2.imread('plains.jpg')\n",
    "blue=image[:,:,0]\n",
    "green=image[:,:,1]\n",
    "red=image[:,:,2]\n",
    "cv2.imshow('B-Channel',blue)\n",
    "cv2.imshow('G-Channel',green)\n",
    "cv2.imshow('R-Channel',red)\n",
    "Merged_BGR=cv2.merge((blue,green,red))\n",
    "cv2.imshow('Merged BGR Image',Merged_BGR)\n",
    "cv2.waitKey(0)\n",
    "cv2.destoryAllWindows()"
   ]
  },
  {
   "cell_type": "code",
   "execution_count": 1,
   "id": "d38b9eee-aab2-4164-8ac5-8f7e35d7dc7a",
   "metadata": {},
   "outputs": [
    {
     "ename": "AttributeError",
     "evalue": "module 'cv2' has no attribute 'destoryAllWindows'",
     "output_type": "error",
     "traceback": [
      "\u001b[1;31m---------------------------------------------------------------------------\u001b[0m",
      "\u001b[1;31mAttributeError\u001b[0m                            Traceback (most recent call last)",
      "Cell \u001b[1;32mIn[1], line 13\u001b[0m\n\u001b[0;32m     11\u001b[0m cv2\u001b[38;5;241m.\u001b[39mimshow(\u001b[38;5;124m'\u001b[39m\u001b[38;5;124mMerged HSV Image\u001b[39m\u001b[38;5;124m'\u001b[39m,Merged_HSV)\n\u001b[0;32m     12\u001b[0m cv2\u001b[38;5;241m.\u001b[39mwaitKey(\u001b[38;5;241m0\u001b[39m)\n\u001b[1;32m---> 13\u001b[0m \u001b[43mcv2\u001b[49m\u001b[38;5;241;43m.\u001b[39;49m\u001b[43mdestoryAllWindows\u001b[49m()\n",
      "\u001b[1;31mAttributeError\u001b[0m: module 'cv2' has no attribute 'destoryAllWindows'"
     ]
    }
   ],
   "source": [
    "# v) Split and merge HSV Image:\n",
    "\n",
    "import cv2\n",
    "image = cv2.imread('plains.jpg')\n",
    "hsv = cv2.cvtColor(image, cv2.COLOR_BGR2HSV)\n",
    "h,s,v = cv2.split(hsv)\n",
    "cv2.imshow('Hue-Image',h)\n",
    "cv2.imshow('Saturation-Image',s)\n",
    "cv2.imshow('Gray-Image',v)\n",
    "Merged_HSV = cv2.merge((h,s,v))\n",
    "cv2.imshow('Merged HSV Image',Merged_HSV)\n",
    "cv2.waitKey(0)\n",
    "cv2.destoryAllWindows()"
   ]
  },
  {
   "cell_type": "code",
   "execution_count": null,
   "id": "6df24739-1a23-47ad-9eb3-8db4797f6495",
   "metadata": {},
   "outputs": [],
   "source": []
  },
  {
   "cell_type": "code",
   "execution_count": null,
   "id": "62637dbe-4c28-4b30-88d1-7fb6d8af0a6a",
   "metadata": {},
   "outputs": [],
   "source": []
  },
  {
   "cell_type": "code",
   "execution_count": null,
   "id": "91908339-f15e-4001-9706-06fc00f17747",
   "metadata": {},
   "outputs": [],
   "source": []
  }
 ],
 "metadata": {
  "kernelspec": {
   "display_name": "Python 3 (ipykernel)",
   "language": "python",
   "name": "python3"
  },
  "language_info": {
   "codemirror_mode": {
    "name": "ipython",
    "version": 3
   },
   "file_extension": ".py",
   "mimetype": "text/x-python",
   "name": "python",
   "nbconvert_exporter": "python",
   "pygments_lexer": "ipython3",
   "version": "3.10.9"
  }
 },
 "nbformat": 4,
 "nbformat_minor": 5
}
